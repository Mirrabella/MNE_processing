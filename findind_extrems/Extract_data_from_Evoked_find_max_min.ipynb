{
 "cells": [
  {
   "cell_type": "markdown",
   "metadata": {},
   "source": [
    "# Extract data from Evoked.\n",
    "# Searching max and min values  and time\n",
    "# Plot topomaps"
   ]
  },
  {
   "cell_type": "code",
   "execution_count": 1,
   "metadata": {},
   "outputs": [],
   "source": [
    "import mne\n",
    "import os.path as op\n",
    "from matplotlib import pyplot as plt\n",
    "import numpy as np\n",
    "import copy\n",
    "import pandas as pd"
   ]
  },
  {
   "cell_type": "markdown",
   "metadata": {},
   "source": [
    "# Extract data from Evoked"
   ]
  },
  {
   "cell_type": "code",
   "execution_count": 42,
   "metadata": {},
   "outputs": [],
   "source": [
    "def grand_average_data(subjects, data_path, planar, tmin, tmax, sensor_num = 0):\n",
    "    #Make list of evoked\n",
    "    all_evoked = []\n",
    "    for subj in subjects:\n",
    "        data = op.join(data_path, planar.format(subj)) #If you need to make combine planar for beta, please use the combine_planar.py\n",
    "        evk = mne.Evoked(data)\n",
    "        all_evoked.append(evk)\n",
    "\n",
    "    ###### SHIFT TIME #######\n",
    "    \n",
    "    #shift time scale if it is needed. Comment if you don't need\n",
    "    \n",
    "    #for i in all_evoked:\n",
    "    #    i.shift_time(-2.0, relative=False)\n",
    "        \n",
    "        ##############\n",
    "        \n",
    "    interval = []\n",
    "    \n",
    "    for i in all_evoked:\n",
    "        x = i.crop(tmin=tmin, tmax=tmax)   #crop - mne function\n",
    "\n",
    "        interval.append(x.data)\n",
    "        \n",
    "    donor = all_evoked[0].crop(tmin=tmin, tmax=tmax)\n",
    "        \n",
    "    #n = ((tmax*1000-tmin*1000)/(len(x.data[sensor_num])-1))/1000\n",
    "    \n",
    "    #time = np.arange(tmin, (tmax + 0.001), n)\n",
    "\n",
    "    amplitude = np.array(interval)\n",
    "    \n",
    "    mean_amp = np.mean(amplitude.data, axis = 0)\n",
    "    \n",
    "    grand_ave = np.mean(mean_amp.data, axis = 0)\n",
    "    \n",
    "    donor.data = grand_ave\n",
    "    \n",
    "    return (donor)\n",
    "    "
   ]
  },
  {
   "cell_type": "markdown",
   "metadata": {},
   "source": [
    "# Example"
   ]
  },
  {
   "cell_type": "code",
   "execution_count": 43,
   "metadata": {},
   "outputs": [
    {
     "name": "stdout",
     "output_type": "stream",
     "text": [
      "    Found the data of interest:\n",
      "        t =   -1300.00 ...    1696.67 ms (No comment)\n",
      "        0 CTF compensation matrices available\n",
      "        nave = 47 - aspect type = 100\n",
      "No projector specified for this dataset. Please consider the method self.add_proj.\n",
      "    Found the data of interest:\n",
      "        t =   -1300.00 ...    1696.67 ms (No comment)\n",
      "        0 CTF compensation matrices available\n",
      "        nave = 47 - aspect type = 100\n",
      "No projector specified for this dataset. Please consider the method self.add_proj.\n",
      "    Found the data of interest:\n",
      "        t =   -1300.00 ...    1696.67 ms (No comment)\n",
      "        0 CTF compensation matrices available\n",
      "        nave = 47 - aspect type = 100\n",
      "No projector specified for this dataset. Please consider the method self.add_proj.\n",
      "    Found the data of interest:\n",
      "        t =   -1300.00 ...    1696.67 ms (No comment)\n",
      "        0 CTF compensation matrices available\n",
      "        nave = 47 - aspect type = 100\n",
      "No projector specified for this dataset. Please consider the method self.add_proj.\n",
      "    Found the data of interest:\n",
      "        t =   -1300.00 ...    1696.67 ms (No comment)\n",
      "        0 CTF compensation matrices available\n",
      "        nave = 47 - aspect type = 100\n",
      "No projector specified for this dataset. Please consider the method self.add_proj.\n",
      "    Found the data of interest:\n",
      "        t =   -1300.00 ...    1696.67 ms (No comment)\n",
      "        0 CTF compensation matrices available\n",
      "        nave = 47 - aspect type = 100\n",
      "No projector specified for this dataset. Please consider the method self.add_proj.\n",
      "    Found the data of interest:\n",
      "        t =   -1300.00 ...    1696.67 ms (No comment)\n",
      "        0 CTF compensation matrices available\n",
      "        nave = 47 - aspect type = 100\n",
      "No projector specified for this dataset. Please consider the method self.add_proj.\n",
      "    Found the data of interest:\n",
      "        t =   -1300.00 ...    1696.67 ms (No comment)\n",
      "        0 CTF compensation matrices available\n",
      "        nave = 47 - aspect type = 100\n",
      "No projector specified for this dataset. Please consider the method self.add_proj.\n",
      "    Found the data of interest:\n",
      "        t =   -1300.00 ...    1696.67 ms (No comment)\n",
      "        0 CTF compensation matrices available\n",
      "        nave = 47 - aspect type = 100\n",
      "No projector specified for this dataset. Please consider the method self.add_proj.\n",
      "    Found the data of interest:\n",
      "        t =   -1300.00 ...    1696.67 ms (No comment)\n",
      "        0 CTF compensation matrices available\n",
      "        nave = 47 - aspect type = 100\n",
      "No projector specified for this dataset. Please consider the method self.add_proj.\n",
      "    Found the data of interest:\n",
      "        t =   -1300.00 ...    1696.67 ms (No comment)\n",
      "        0 CTF compensation matrices available\n",
      "        nave = 47 - aspect type = 100\n",
      "No projector specified for this dataset. Please consider the method self.add_proj.\n",
      "    Found the data of interest:\n",
      "        t =   -1300.00 ...    1696.67 ms (No comment)\n",
      "        0 CTF compensation matrices available\n",
      "        nave = 47 - aspect type = 100\n",
      "No projector specified for this dataset. Please consider the method self.add_proj.\n",
      "    Found the data of interest:\n",
      "        t =   -1300.00 ...    1696.67 ms (No comment)\n",
      "        0 CTF compensation matrices available\n",
      "        nave = 47 - aspect type = 100\n",
      "No projector specified for this dataset. Please consider the method self.add_proj.\n",
      "    Found the data of interest:\n",
      "        t =   -1300.00 ...    1696.67 ms (No comment)\n",
      "        0 CTF compensation matrices available\n",
      "        nave = 47 - aspect type = 100\n",
      "No projector specified for this dataset. Please consider the method self.add_proj.\n",
      "    Found the data of interest:\n",
      "        t =   -1300.00 ...    1696.67 ms (No comment)\n",
      "        0 CTF compensation matrices available\n",
      "        nave = 35 - aspect type = 100\n",
      "No projector specified for this dataset. Please consider the method self.add_proj.\n",
      "    Found the data of interest:\n",
      "        t =   -1300.00 ...    1696.67 ms (No comment)\n",
      "        0 CTF compensation matrices available\n",
      "        nave = 47 - aspect type = 100\n",
      "No projector specified for this dataset. Please consider the method self.add_proj.\n",
      "    Found the data of interest:\n",
      "        t =   -1300.00 ...    1696.67 ms (No comment)\n",
      "        0 CTF compensation matrices available\n",
      "        nave = 47 - aspect type = 100\n",
      "No projector specified for this dataset. Please consider the method self.add_proj.\n",
      "    Found the data of interest:\n",
      "        t =   -1300.00 ...    1696.67 ms (No comment)\n",
      "        0 CTF compensation matrices available\n",
      "        nave = 47 - aspect type = 100\n",
      "No projector specified for this dataset. Please consider the method self.add_proj.\n",
      "    Found the data of interest:\n",
      "        t =   -1300.00 ...    1696.67 ms (No comment)\n",
      "        0 CTF compensation matrices available\n",
      "        nave = 47 - aspect type = 100\n",
      "No projector specified for this dataset. Please consider the method self.add_proj.\n",
      "    Found the data of interest:\n",
      "        t =   -1300.00 ...    1696.67 ms (No comment)\n",
      "        0 CTF compensation matrices available\n",
      "        nave = 47 - aspect type = 100\n",
      "No projector specified for this dataset. Please consider the method self.add_proj.\n",
      "    Found the data of interest:\n",
      "        t =   -1300.00 ...    1696.67 ms (No comment)\n",
      "        0 CTF compensation matrices available\n",
      "        nave = 47 - aspect type = 100\n",
      "No projector specified for this dataset. Please consider the method self.add_proj.\n",
      "    Found the data of interest:\n",
      "        t =   -1300.00 ...    1696.67 ms (No comment)\n",
      "        0 CTF compensation matrices available\n",
      "        nave = 47 - aspect type = 100\n",
      "No projector specified for this dataset. Please consider the method self.add_proj.\n",
      "    Found the data of interest:\n",
      "        t =   -1300.00 ...    1696.67 ms (No comment)\n",
      "        0 CTF compensation matrices available\n",
      "        nave = 47 - aspect type = 100\n",
      "No projector specified for this dataset. Please consider the method self.add_proj.\n",
      "    Found the data of interest:\n",
      "        t =   -1300.00 ...    1696.67 ms (No comment)\n",
      "        0 CTF compensation matrices available\n",
      "        nave = 47 - aspect type = 100\n",
      "No projector specified for this dataset. Please consider the method self.add_proj.\n",
      "    Found the data of interest:\n",
      "        t =   -1300.00 ...    1696.67 ms (No comment)\n",
      "        0 CTF compensation matrices available\n",
      "        nave = 47 - aspect type = 100\n",
      "No projector specified for this dataset. Please consider the method self.add_proj.\n",
      "    Found the data of interest:\n",
      "        t =   -1300.00 ...    1696.67 ms (No comment)\n",
      "        0 CTF compensation matrices available\n",
      "        nave = 47 - aspect type = 100\n",
      "No projector specified for this dataset. Please consider the method self.add_proj.\n",
      "    Found the data of interest:\n",
      "        t =   -1300.00 ...    1696.67 ms (No comment)\n",
      "        0 CTF compensation matrices available\n",
      "        nave = 47 - aspect type = 100\n",
      "No projector specified for this dataset. Please consider the method self.add_proj.\n",
      "    Found the data of interest:\n",
      "        t =   -1300.00 ...    1696.67 ms (No comment)\n",
      "        0 CTF compensation matrices available\n",
      "        nave = 47 - aspect type = 100\n",
      "No projector specified for this dataset. Please consider the method self.add_proj.\n"
     ]
    }
   ],
   "source": [
    "# take data from evoked fif files for combined planar\n",
    "data_path = \"/home/vtretyakova/Desktop/self_pace_new_exp_15_30/self_pace_day1_comb_15_30_Db\"\n",
    "planar = \"{0}_beta_comb_15_30-Db.fif\"\n",
    "\n",
    "subjects = []\n",
    "for i in range(1,29):\n",
    "    if i < 10:\n",
    "        subjects += ['L00' + str(i)]\n",
    "    else:\n",
    "        subjects += ['L0' + str(i)]\n",
    "        \n",
    "#subjects.remove('L015')\n",
    "        \n",
    "tmin = -1.0\n",
    "tmax = 1.4\n",
    "\n",
    "\n",
    "grand_ave_beta = grand_average_data(subjects, data_path, planar, tmin, tmax, sensor_num = 0)   "
   ]
  },
  {
   "cell_type": "code",
   "execution_count": 44,
   "metadata": {},
   "outputs": [
    {
     "data": {
      "text/plain": [
       "(721,)"
      ]
     },
     "execution_count": 44,
     "metadata": {},
     "output_type": "execute_result"
    }
   ],
   "source": [
    "grand_ave_beta.times.shape # n = 721 - amount of time points"
   ]
  },
  {
   "cell_type": "code",
   "execution_count": 45,
   "metadata": {},
   "outputs": [
    {
     "data": {
      "text/plain": [
       "0.12163065290558342"
      ]
     },
     "execution_count": 45,
     "metadata": {},
     "output_type": "execute_result"
    }
   ],
   "source": [
    "max_beta = np.amax(grand_ave_beta.data, axis = 0)  # find maximal value of beta\n",
    "max_beta"
   ]
  },
  {
   "cell_type": "code",
   "execution_count": 19,
   "metadata": {},
   "outputs": [
    {
     "data": {
      "text/plain": [
       "543"
      ]
     },
     "execution_count": 19,
     "metadata": {},
     "output_type": "execute_result"
    }
   ],
   "source": [
    "max_beta_ind = np.argmax(grand_ave_beta.data, axis = 0) # find index for maximal value of beta\n",
    "max_beta_ind"
   ]
  },
  {
   "cell_type": "code",
   "execution_count": 20,
   "metadata": {},
   "outputs": [
    {
     "data": {
      "text/plain": [
       "0.8100000476837157"
      ]
     },
     "execution_count": 20,
     "metadata": {},
     "output_type": "execute_result"
    }
   ],
   "source": [
    "grand_ave_beta.times[543] # knowing index, we can find the time"
   ]
  },
  {
   "cell_type": "code",
   "execution_count": 46,
   "metadata": {},
   "outputs": [
    {
     "data": {
      "text/plain": [
       "-0.5631498158289991"
      ]
     },
     "execution_count": 46,
     "metadata": {},
     "output_type": "execute_result"
    }
   ],
   "source": [
    "min_beta = np.amin(grand_ave_beta.data, axis = 0) # find minimal value of beta\n",
    "min_beta"
   ]
  },
  {
   "cell_type": "code",
   "execution_count": 47,
   "metadata": {},
   "outputs": [
    {
     "data": {
      "text/plain": [
       "334"
      ]
     },
     "execution_count": 47,
     "metadata": {},
     "output_type": "execute_result"
    }
   ],
   "source": [
    "min_beta_ind = np.argmin(grand_ave_beta.data, axis = 0) #find index for minimal value of beta\n",
    "min_beta_ind"
   ]
  },
  {
   "cell_type": "code",
   "execution_count": 48,
   "metadata": {},
   "outputs": [
    {
     "data": {
      "text/plain": [
       "0.11333338101704915"
      ]
     },
     "execution_count": 48,
     "metadata": {},
     "output_type": "execute_result"
    }
   ],
   "source": [
    "grand_ave_beta.times[334] # knowing index, we can find the time"
   ]
  },
  {
   "cell_type": "markdown",
   "metadata": {},
   "source": [
    "# For individual sensors"
   ]
  },
  {
   "cell_type": "code",
   "execution_count": 2,
   "metadata": {},
   "outputs": [],
   "source": [
    "def average_data_per_sensor(subjects, data_path, planar, tmin, tmax):\n",
    "    #Make list of evoked\n",
    "    all_evoked = []\n",
    "    for subj in subjects:\n",
    "        data = op.join(data_path, planar.format(subj)) #If you need to make combine planar for beta, please use the combine_planar.py\n",
    "        evk = mne.Evoked(data)\n",
    "        all_evoked.append(evk)\n",
    "\n",
    "    ###### SHIFT TIME #######\n",
    "    \n",
    "    #shift time scale if it is needed. Comment if you don't need\n",
    "    \n",
    "    #for i in all_evoked:\n",
    "    #    i.shift_time(-2.0, relative=False)\n",
    "        \n",
    "        ##############\n",
    "        \n",
    "    interval = []\n",
    "    \n",
    "    for i in all_evoked:\n",
    "        x = i.crop(tmin=tmin, tmax=tmax)   #crop - mne function\n",
    "\n",
    "        interval.append(x.data)\n",
    "        \n",
    "    donor = all_evoked[0].crop(tmin=tmin, tmax=tmax) #any evoked\n",
    "        \n",
    "    #n = ((tmax*1000-tmin*1000)/(len(x.data[sensor_num])-1))/1000\n",
    "    \n",
    "    #time = np.arange(tmin, (tmax + 0.001), n)\n",
    "\n",
    "    amplitude = np.array(interval)\n",
    "    \n",
    "    mean_amp = np.mean(amplitude.data, axis = 0)\n",
    "    \n",
    "    #grand_ave = np.mean(mean_amp.data, axis = 0)\n",
    "    \n",
    "    donor.data = mean_amp\n",
    "    \n",
    "    return (donor)"
   ]
  },
  {
   "cell_type": "markdown",
   "metadata": {},
   "source": [
    "# Example "
   ]
  },
  {
   "cell_type": "code",
   "execution_count": 3,
   "metadata": {},
   "outputs": [
    {
     "name": "stdout",
     "output_type": "stream",
     "text": [
      "    Found the data of interest:\n",
      "        t =   -1300.00 ...    1696.67 ms (No comment)\n",
      "        0 CTF compensation matrices available\n",
      "        nave = 47 - aspect type = 100\n",
      "No projector specified for this dataset. Please consider the method self.add_proj.\n",
      "    Found the data of interest:\n",
      "        t =   -1300.00 ...    1696.67 ms (No comment)\n",
      "        0 CTF compensation matrices available\n",
      "        nave = 47 - aspect type = 100\n",
      "No projector specified for this dataset. Please consider the method self.add_proj.\n",
      "    Found the data of interest:\n",
      "        t =   -1300.00 ...    1696.67 ms (No comment)\n",
      "        0 CTF compensation matrices available\n",
      "        nave = 47 - aspect type = 100\n",
      "No projector specified for this dataset. Please consider the method self.add_proj.\n",
      "    Found the data of interest:\n",
      "        t =   -1300.00 ...    1696.67 ms (No comment)\n",
      "        0 CTF compensation matrices available\n",
      "        nave = 47 - aspect type = 100\n",
      "No projector specified for this dataset. Please consider the method self.add_proj.\n",
      "    Found the data of interest:\n",
      "        t =   -1300.00 ...    1696.67 ms (No comment)\n",
      "        0 CTF compensation matrices available\n",
      "        nave = 47 - aspect type = 100\n",
      "No projector specified for this dataset. Please consider the method self.add_proj.\n",
      "    Found the data of interest:\n",
      "        t =   -1300.00 ...    1696.67 ms (No comment)\n",
      "        0 CTF compensation matrices available\n",
      "        nave = 47 - aspect type = 100\n",
      "No projector specified for this dataset. Please consider the method self.add_proj.\n",
      "    Found the data of interest:\n",
      "        t =   -1300.00 ...    1696.67 ms (No comment)\n",
      "        0 CTF compensation matrices available\n",
      "        nave = 47 - aspect type = 100\n",
      "No projector specified for this dataset. Please consider the method self.add_proj.\n",
      "    Found the data of interest:\n",
      "        t =   -1300.00 ...    1696.67 ms (No comment)\n",
      "        0 CTF compensation matrices available\n",
      "        nave = 47 - aspect type = 100\n",
      "No projector specified for this dataset. Please consider the method self.add_proj.\n",
      "    Found the data of interest:\n",
      "        t =   -1300.00 ...    1696.67 ms (No comment)\n",
      "        0 CTF compensation matrices available\n",
      "        nave = 47 - aspect type = 100\n",
      "No projector specified for this dataset. Please consider the method self.add_proj.\n",
      "    Found the data of interest:\n",
      "        t =   -1300.00 ...    1696.67 ms (No comment)\n",
      "        0 CTF compensation matrices available\n",
      "        nave = 47 - aspect type = 100\n",
      "No projector specified for this dataset. Please consider the method self.add_proj.\n",
      "    Found the data of interest:\n",
      "        t =   -1300.00 ...    1696.67 ms (No comment)\n",
      "        0 CTF compensation matrices available\n",
      "        nave = 47 - aspect type = 100\n",
      "No projector specified for this dataset. Please consider the method self.add_proj.\n",
      "    Found the data of interest:\n",
      "        t =   -1300.00 ...    1696.67 ms (No comment)\n",
      "        0 CTF compensation matrices available\n",
      "        nave = 47 - aspect type = 100\n",
      "No projector specified for this dataset. Please consider the method self.add_proj.\n",
      "    Found the data of interest:\n",
      "        t =   -1300.00 ...    1696.67 ms (No comment)\n",
      "        0 CTF compensation matrices available\n",
      "        nave = 47 - aspect type = 100\n",
      "No projector specified for this dataset. Please consider the method self.add_proj.\n",
      "    Found the data of interest:\n",
      "        t =   -1300.00 ...    1696.67 ms (No comment)\n",
      "        0 CTF compensation matrices available\n",
      "        nave = 47 - aspect type = 100\n",
      "No projector specified for this dataset. Please consider the method self.add_proj.\n",
      "    Found the data of interest:\n",
      "        t =   -1300.00 ...    1696.67 ms (No comment)\n",
      "        0 CTF compensation matrices available\n",
      "        nave = 35 - aspect type = 100\n",
      "No projector specified for this dataset. Please consider the method self.add_proj.\n",
      "    Found the data of interest:\n",
      "        t =   -1300.00 ...    1696.67 ms (No comment)\n",
      "        0 CTF compensation matrices available\n",
      "        nave = 47 - aspect type = 100\n",
      "No projector specified for this dataset. Please consider the method self.add_proj.\n",
      "    Found the data of interest:\n",
      "        t =   -1300.00 ...    1696.67 ms (No comment)\n",
      "        0 CTF compensation matrices available\n",
      "        nave = 47 - aspect type = 100\n",
      "No projector specified for this dataset. Please consider the method self.add_proj.\n",
      "    Found the data of interest:\n",
      "        t =   -1300.00 ...    1696.67 ms (No comment)\n",
      "        0 CTF compensation matrices available\n",
      "        nave = 47 - aspect type = 100\n",
      "No projector specified for this dataset. Please consider the method self.add_proj.\n",
      "    Found the data of interest:\n",
      "        t =   -1300.00 ...    1696.67 ms (No comment)\n",
      "        0 CTF compensation matrices available\n",
      "        nave = 47 - aspect type = 100\n",
      "No projector specified for this dataset. Please consider the method self.add_proj.\n",
      "    Found the data of interest:\n",
      "        t =   -1300.00 ...    1696.67 ms (No comment)\n",
      "        0 CTF compensation matrices available\n",
      "        nave = 47 - aspect type = 100\n",
      "No projector specified for this dataset. Please consider the method self.add_proj.\n",
      "    Found the data of interest:\n",
      "        t =   -1300.00 ...    1696.67 ms (No comment)\n",
      "        0 CTF compensation matrices available\n",
      "        nave = 47 - aspect type = 100\n",
      "No projector specified for this dataset. Please consider the method self.add_proj.\n",
      "    Found the data of interest:\n",
      "        t =   -1300.00 ...    1696.67 ms (No comment)\n",
      "        0 CTF compensation matrices available\n",
      "        nave = 47 - aspect type = 100\n",
      "No projector specified for this dataset. Please consider the method self.add_proj.\n",
      "    Found the data of interest:\n",
      "        t =   -1300.00 ...    1696.67 ms (No comment)\n",
      "        0 CTF compensation matrices available\n",
      "        nave = 47 - aspect type = 100\n",
      "No projector specified for this dataset. Please consider the method self.add_proj.\n",
      "    Found the data of interest:\n",
      "        t =   -1300.00 ...    1696.67 ms (No comment)\n",
      "        0 CTF compensation matrices available\n",
      "        nave = 47 - aspect type = 100\n",
      "No projector specified for this dataset. Please consider the method self.add_proj.\n",
      "    Found the data of interest:\n",
      "        t =   -1300.00 ...    1696.67 ms (No comment)\n",
      "        0 CTF compensation matrices available\n",
      "        nave = 47 - aspect type = 100\n",
      "No projector specified for this dataset. Please consider the method self.add_proj.\n",
      "    Found the data of interest:\n",
      "        t =   -1300.00 ...    1696.67 ms (No comment)\n",
      "        0 CTF compensation matrices available\n",
      "        nave = 47 - aspect type = 100\n",
      "No projector specified for this dataset. Please consider the method self.add_proj.\n",
      "    Found the data of interest:\n",
      "        t =   -1300.00 ...    1696.67 ms (No comment)\n",
      "        0 CTF compensation matrices available\n",
      "        nave = 47 - aspect type = 100\n",
      "No projector specified for this dataset. Please consider the method self.add_proj.\n",
      "    Found the data of interest:\n",
      "        t =   -1300.00 ...    1696.67 ms (No comment)\n",
      "        0 CTF compensation matrices available\n",
      "        nave = 47 - aspect type = 100\n",
      "No projector specified for this dataset. Please consider the method self.add_proj.\n"
     ]
    }
   ],
   "source": [
    "data_path = \"/home/vtretyakova/Desktop/self_pace_new_exp_15_30/self_pace_day1_comb_15_30_Db\"\n",
    "planar = \"{0}_beta_comb_15_30-Db.fif\"\n",
    "\n",
    "subjects = []\n",
    "for i in range(1,29):\n",
    "    if i < 10:\n",
    "        subjects += ['L00' + str(i)]\n",
    "    else:\n",
    "        subjects += ['L0' + str(i)]\n",
    "        \n",
    "#subjects.remove('L015')\n",
    "        \n",
    "tmin = -1.0\n",
    "tmax = 1.4\n",
    "\n",
    "\n",
    "ave_beta = average_data_per_sensor(subjects, data_path, planar, tmin, tmax)   "
   ]
  },
  {
   "cell_type": "code",
   "execution_count": 49,
   "metadata": {},
   "outputs": [
    {
     "data": {
      "text/plain": [
       "(102, 721)"
      ]
     },
     "execution_count": 49,
     "metadata": {},
     "output_type": "execute_result"
    }
   ],
   "source": [
    "ave_beta.data.shape # 102 - sensors (combained planars); 721 - time points"
   ]
  },
  {
   "cell_type": "code",
   "execution_count": 25,
   "metadata": {},
   "outputs": [
    {
     "data": {
      "text/plain": [
       "(721,)"
      ]
     },
     "execution_count": 25,
     "metadata": {},
     "output_type": "execute_result"
    }
   ],
   "source": [
    "ave_beta.data[0].shape"
   ]
  },
  {
   "cell_type": "markdown",
   "metadata": {},
   "source": [
    "### If we know number of sensors, we can find name of sensors, and then obtain information about extremum value of beta and time of this value"
   ]
  },
  {
   "cell_type": "code",
   "execution_count": 24,
   "metadata": {},
   "outputs": [],
   "source": [
    "# download files with sensors name. \n",
    "#If you have no such files, you can make it from raw.info or ask you friends:)\n",
    "sensor = pd.read_csv('/home/vtretyakova/Desktop/corr_with_behavior/MEM_old/sensors.csv')"
   ]
  },
  {
   "cell_type": "code",
   "execution_count": 28,
   "metadata": {},
   "outputs": [
    {
     "data": {
      "text/html": [
       "<div>\n",
       "<style scoped>\n",
       "    .dataframe tbody tr th:only-of-type {\n",
       "        vertical-align: middle;\n",
       "    }\n",
       "\n",
       "    .dataframe tbody tr th {\n",
       "        vertical-align: top;\n",
       "    }\n",
       "\n",
       "    .dataframe thead th {\n",
       "        text-align: right;\n",
       "    }\n",
       "</style>\n",
       "<table border=\"1\" class=\"dataframe\">\n",
       "  <thead>\n",
       "    <tr style=\"text-align: right;\">\n",
       "      <th></th>\n",
       "      <th>Unnamed: 0</th>\n",
       "      <th>Name</th>\n",
       "    </tr>\n",
       "  </thead>\n",
       "  <tbody>\n",
       "    <tr>\n",
       "      <th>14</th>\n",
       "      <td>14</td>\n",
       "      <td>MEG0432</td>\n",
       "    </tr>\n",
       "  </tbody>\n",
       "</table>\n",
       "</div>"
      ],
      "text/plain": [
       "    Unnamed: 0     Name\n",
       "14          14  MEG0432"
      ]
     },
     "execution_count": 28,
     "metadata": {},
     "output_type": "execute_result"
    }
   ],
   "source": [
    "s.loc[s['Name'] == 'MEG0432'] # find the sensor we are intrested in and its number\n"
   ]
  },
  {
   "cell_type": "code",
   "execution_count": 29,
   "metadata": {},
   "outputs": [
    {
     "data": {
      "text/html": [
       "<div>\n",
       "<style scoped>\n",
       "    .dataframe tbody tr th:only-of-type {\n",
       "        vertical-align: middle;\n",
       "    }\n",
       "\n",
       "    .dataframe tbody tr th {\n",
       "        vertical-align: top;\n",
       "    }\n",
       "\n",
       "    .dataframe thead th {\n",
       "        text-align: right;\n",
       "    }\n",
       "</style>\n",
       "<table border=\"1\" class=\"dataframe\">\n",
       "  <thead>\n",
       "    <tr style=\"text-align: right;\">\n",
       "      <th></th>\n",
       "      <th>Unnamed: 0</th>\n",
       "      <th>Name</th>\n",
       "    </tr>\n",
       "  </thead>\n",
       "  <tbody>\n",
       "    <tr>\n",
       "      <th>41</th>\n",
       "      <td>41</td>\n",
       "      <td>MEG1142</td>\n",
       "    </tr>\n",
       "  </tbody>\n",
       "</table>\n",
       "</div>"
      ],
      "text/plain": [
       "    Unnamed: 0     Name\n",
       "41          41  MEG1142"
      ]
     },
     "execution_count": 29,
     "metadata": {},
     "output_type": "execute_result"
    }
   ],
   "source": [
    "s.loc[s['Name'] == 'MEG1142'] "
   ]
  },
  {
   "cell_type": "markdown",
   "metadata": {},
   "source": [
    "# After that we can find information about signal on this specific sensor"
   ]
  },
  {
   "cell_type": "code",
   "execution_count": 36,
   "metadata": {},
   "outputs": [],
   "source": [
    "a = ave_beta.data[14]"
   ]
  },
  {
   "cell_type": "code",
   "execution_count": 38,
   "metadata": {},
   "outputs": [
    {
     "data": {
      "text/plain": [
       "(721,)"
      ]
     },
     "execution_count": 38,
     "metadata": {},
     "output_type": "execute_result"
    }
   ],
   "source": [
    "a.shape"
   ]
  },
  {
   "cell_type": "code",
   "execution_count": 39,
   "metadata": {},
   "outputs": [
    {
     "data": {
      "text/plain": [
       "0.3943942025438947"
      ]
     },
     "execution_count": 39,
     "metadata": {},
     "output_type": "execute_result"
    }
   ],
   "source": [
    "max_beta = np.amax(a, axis = 0) \n",
    "max_beta"
   ]
  },
  {
   "cell_type": "code",
   "execution_count": 40,
   "metadata": {},
   "outputs": [
    {
     "data": {
      "text/plain": [
       "557"
      ]
     },
     "execution_count": 40,
     "metadata": {},
     "output_type": "execute_result"
    }
   ],
   "source": [
    "max_beta_ind = np.argmax(a, axis = 0) \n",
    "max_beta_ind"
   ]
  },
  {
   "cell_type": "code",
   "execution_count": 41,
   "metadata": {},
   "outputs": [
    {
     "data": {
      "text/plain": [
       "0.8566667143503826"
      ]
     },
     "execution_count": 41,
     "metadata": {},
     "output_type": "execute_result"
    }
   ],
   "source": [
    "ave_beta.times[557]"
   ]
  },
  {
   "cell_type": "code",
   "execution_count": 42,
   "metadata": {},
   "outputs": [
    {
     "data": {
      "text/plain": [
       "0.21483638575843017"
      ]
     },
     "execution_count": 42,
     "metadata": {},
     "output_type": "execute_result"
    }
   ],
   "source": [
    "a = ave_beta.data[41]\n",
    "max_beta = np.amax(a, axis = 0) \n",
    "max_beta"
   ]
  },
  {
   "cell_type": "code",
   "execution_count": 43,
   "metadata": {},
   "outputs": [
    {
     "data": {
      "text/plain": [
       "681"
      ]
     },
     "execution_count": 43,
     "metadata": {},
     "output_type": "execute_result"
    }
   ],
   "source": [
    "max_beta_ind = np.argmax(a, axis = 0) \n",
    "max_beta_ind"
   ]
  },
  {
   "cell_type": "code",
   "execution_count": 44,
   "metadata": {},
   "outputs": [
    {
     "data": {
      "text/plain": [
       "1.2700000476837157"
      ]
     },
     "execution_count": 44,
     "metadata": {},
     "output_type": "execute_result"
    }
   ],
   "source": [
    "ave_beta.times[681]"
   ]
  },
  {
   "cell_type": "markdown",
   "metadata": {},
   "source": [
    "# Topomaps "
   ]
  },
  {
   "cell_type": "code",
   "execution_count": 7,
   "metadata": {},
   "outputs": [
    {
     "data": {
      "text/plain": [
       "102"
      ]
     },
     "execution_count": 7,
     "metadata": {},
     "output_type": "execute_result"
    }
   ],
   "source": [
    "len(ave_beta.data)"
   ]
  },
  {
   "cell_type": "code",
   "execution_count": 55,
   "metadata": {},
   "outputs": [],
   "source": [
    "def extremum_value_and_index(evoked):\n",
    "\n",
    "    max_beta_index_list = []\n",
    "    max_beta_list = []\n",
    "\n",
    "    min_beta_index_list = []\n",
    "    min_beta_list = []\n",
    "\n",
    "    for i in range(len(evoked.data)):\n",
    "        s = evoked.data[i] # point from one sensor, number i\n",
    "\n",
    "        #MAXIMUM\n",
    "        max_beta = np.amax(s, axis = 0) # max beta value on i sensor\n",
    "        max_beta_list.append(max_beta)\n",
    "\n",
    "        max_beta_ind = np.argmax(s, axis = 0) # index of max beta value on i sensor\n",
    "        max_beta_index_list.append(max_beta_ind)\n",
    "\n",
    "        #MINIMUM\n",
    "        min_beta = np.amin(s, axis = 0) # min beta value on i sensor\n",
    "        min_beta_list.append(min_beta)\n",
    "\n",
    "        min_beta_ind = np.argmin(s, axis = 0) # index of max beta value on i sensor\n",
    "        min_beta_index_list.append(min_beta_ind)\n",
    "        \n",
    "        #return lists of maximal and minimal values for each sensors and lists of indexes for this values\n",
    "    return(min_beta_list, min_beta_index_list, max_beta_list, max_beta_index_list)\n",
    "    \n",
    "    "
   ]
  },
  {
   "cell_type": "markdown",
   "metadata": {},
   "source": [
    "# Example "
   ]
  },
  {
   "cell_type": "code",
   "execution_count": 56,
   "metadata": {},
   "outputs": [],
   "source": [
    "min_beta_list, min_beta_index_list, max_beta_list, max_beta_index_list = extremum_value_and_index(ave_beta)"
   ]
  },
  {
   "cell_type": "markdown",
   "metadata": {},
   "source": [
    "# Plot topomaps for extremum values "
   ]
  },
  {
   "cell_type": "code",
   "execution_count": 61,
   "metadata": {},
   "outputs": [],
   "source": [
    "def plot_topomaps_min (min_beta_list, units, vmin, vmax, scalings = 1):\n",
    "    min_beta_array = np.array(min_beta_list) # make from list np.array\n",
    "    \n",
    "    # reshape array to plot topomaps\n",
    "    min_array = min_beta_array.reshape(102, 1)\n",
    "    \n",
    "    #load donor\n",
    "    # At the end we will replace all parametr for the donor with the one we need\n",
    "    donor = mne.Evoked(\"/home/vtretyakova/Public/passive_new /ttest_topomaps/topomaps_ttest_Sasha_Nikita/MNE_TFR_ToolBox-master_Nikita/VISUALISATION/donor-ave.fif\")\n",
    "    donor.times = np.arange(0, 2.01, 1)\n",
    "    \n",
    "    # Using the donor , we make Evoked from resulting array\n",
    "    evk_min = mne.EvokedArray(min_array, donor.info)\n",
    "    \n",
    "    #plot topomaps\n",
    "    t = np.linspace(0, 0, num=1) \n",
    "    \n",
    "    fig_min = evk_min.plot_topomap(times = t, ch_type='planar1', scalings = scalings, units = units,\n",
    "                                   show = False, colorbar = True, vmin = vmin, vmax = vmax) \n",
    "\n",
    "    return (fig_min)\n",
    "\n",
    "\n",
    "def plot_topomaps_max (max_beta_list, units, vmin, vmax, scalings = 1):\n",
    "    max_beta_array = np.array(max_beta_list)\n",
    "    max_array = max_beta_array.reshape(102, 1)\n",
    "    \n",
    "    #load donor\n",
    "    # At the end we will replace all parametr for the donor with the one we need\n",
    "    donor = mne.Evoked(\"/home/vtretyakova/Public/passive_new /ttest_topomaps/topomaps_ttest_Sasha_Nikita/MNE_TFR_ToolBox-master_Nikita/VISUALISATION/donor-ave.fif\")\n",
    "    donor.times = np.arange(0, 2.01, 1)\n",
    "    evk_max = mne.EvokedArray(max_array, donor.info)\n",
    "    \n",
    "    #plot topomaps\n",
    "    t = np.linspace(0, 0, num=1) \n",
    "    \n",
    "    fig_max = evk_max.plot_topomap(times = t, ch_type='planar1', scalings = 1, units = units,\n",
    "                                       show = False, colorbar = True, vmin = vmin, vmax = vmax)\n",
    "    \n",
    "    \n",
    "    return (fig_max)\n",
    "    "
   ]
  },
  {
   "cell_type": "markdown",
   "metadata": {},
   "source": [
    "# Example "
   ]
  },
  {
   "cell_type": "code",
   "execution_count": 62,
   "metadata": {},
   "outputs": [
    {
     "name": "stdout",
     "output_type": "stream",
     "text": [
      "    Found the data of interest:\n",
      "        t =    -610.00 ...     600.00 ms (hicha)\n",
      "        0 CTF compensation matrices available\n",
      "        nave = 50 - aspect type = 100\n",
      "No projector specified for this dataset. Please consider the method self.add_proj.\n",
      "    Found the data of interest:\n",
      "        t =    -610.00 ...     600.00 ms (hicha)\n",
      "        0 CTF compensation matrices available\n",
      "        nave = 50 - aspect type = 100\n",
      "No projector specified for this dataset. Please consider the method self.add_proj.\n"
     ]
    },
    {
     "data": {
      "image/png": "[encoded data removed]",
      "text/plain": [
       "<Figure size 216x140.4 with 2 Axes>"
      ]
     },
     "metadata": {
      "needs_background": "light"
     },
     "output_type": "display_data"
    },
    {
     "data": {
      "image/png": "[encoded data removed]",
      "text/plain": [
       "<Figure size 216x140.4 with 2 Axes>"
      ]
     },
     "metadata": {
      "needs_background": "light"
     },
     "output_type": "display_data"
    }
   ],
   "source": [
    "fig_min = plot_topomaps_min(min_beta_list, scalings = 1, units = \"Db\", vmin = -1.5, vmax = 1.5)\n",
    "fig_max = plot_topomaps_min(max_beta_list, scalings = 1, units = \"Db\", vmin = -1.5, vmax = 1.5)\n"
   ]
  },
  {
   "cell_type": "code",
   "execution_count": 23,
   "metadata": {},
   "outputs": [],
   "source": [
    "# save obtained figures\n",
    "fig_min.savefig('/home/vtretyakova/Desktop/self_pace_new_exp_15_30/topomaps_extremum/topomaps_self_paced_min_15_30.jpeg', dpi = 300)\n",
    "fig_max.savefig('/home/vtretyakova/Desktop/self_pace_new_exp_15_30/topomaps_extremum/topomaps_self_paced_max_15_30.jpeg', dpi = 300) "
   ]
  },
  {
   "cell_type": "markdown",
   "metadata": {},
   "source": [
    "# Time of extremum"
   ]
  },
  {
   "cell_type": "code",
   "execution_count": 63,
   "metadata": {},
   "outputs": [],
   "source": [
    "# Evoked data among which we looking for extremums\n",
    "\n",
    "def time_of_minimum (min_beta_index_list, evoked): #use function extremum_value_and_index\n",
    "    min_beta_time = []\n",
    "\n",
    "    for i in min_beta_index_list:\n",
    "        t = evoked.times[i] # search time by index\n",
    "        min_beta_time.append(t)\n",
    "    \n",
    "    table_min = pd.DataFrame()\n",
    "    table_min['Sensors Name'] = sensor['Name'].tolist()\n",
    "    table_min['Min beta'] = min_beta_list\n",
    "    table_min['Min beta time'] = min_beta_time\n",
    "\n",
    "    sorted_min = table_min.sort_values(by='Min beta')\n",
    "    sorted_min.rename(columns = {'Sensors Name' : 'Name sensors with min beta'}, inplace = True)\n",
    "    \n",
    "    return (sorted_min) \n",
    "# return pd.DataFrame with beta value for each senors, sorted in ascending order\n",
    "# name, number of sensors and time of minimum for each sensor\n",
    "    \n",
    "    \n",
    "def time_of_maximum (max_beta_index_list, evoked):\n",
    "    \n",
    "    max_beta_time = []\n",
    "\n",
    "    for i in max_beta_index_list:\n",
    "        t = evoked.times[i]\n",
    "        max_beta_time.append(t)\n",
    "        \n",
    "    table_max = pd.DataFrame()\n",
    "    table_max['Sensors Name'] = sensor['Name'].tolist()\n",
    "    table_max['Max beta'] = max_beta_list\n",
    "    table_max['Max beta time'] = max_beta_time\n",
    "\n",
    "    sorted_max = table_max.sort_values(by='Max beta', ascending=False)\n",
    "    sorted_max.rename(columns = {'Sensors Name' : 'Name sensors with max beta'}, inplace = True)\n",
    "    \n",
    "    return (sorted_max)\n",
    "\n"
   ]
  },
  {
   "cell_type": "markdown",
   "metadata": {},
   "source": [
    "# Example"
   ]
  },
  {
   "cell_type": "code",
   "execution_count": 64,
   "metadata": {},
   "outputs": [],
   "source": [
    "sorted_min = time_of_minimum(min_beta_index_list, ave_beta)\n",
    "sorted_max = time_of_maximum(max_beta_index_list, ave_beta)"
   ]
  },
  {
   "cell_type": "code",
   "execution_count": 65,
   "metadata": {},
   "outputs": [
    {
     "data": {
      "text/html": [
       "<div>\n",
       "<style scoped>\n",
       "    .dataframe tbody tr th:only-of-type {\n",
       "        vertical-align: middle;\n",
       "    }\n",
       "\n",
       "    .dataframe tbody tr th {\n",
       "        vertical-align: top;\n",
       "    }\n",
       "\n",
       "    .dataframe thead th {\n",
       "        text-align: right;\n",
       "    }\n",
       "</style>\n",
       "<table border=\"1\" class=\"dataframe\">\n",
       "  <thead>\n",
       "    <tr style=\"text-align: right;\">\n",
       "      <th></th>\n",
       "      <th>Name sensors with min beta</th>\n",
       "      <th>Min beta</th>\n",
       "      <th>Min beta time</th>\n",
       "    </tr>\n",
       "  </thead>\n",
       "  <tbody>\n",
       "    <tr>\n",
       "      <th>14</th>\n",
       "      <td>MEG0432</td>\n",
       "      <td>-2.512302</td>\n",
       "      <td>0.126667</td>\n",
       "    </tr>\n",
       "    <tr>\n",
       "      <th>41</th>\n",
       "      <td>MEG1142</td>\n",
       "      <td>-1.995613</td>\n",
       "      <td>0.120000</td>\n",
       "    </tr>\n",
       "    <tr>\n",
       "      <th>15</th>\n",
       "      <td>MEG0442</td>\n",
       "      <td>-1.960193</td>\n",
       "      <td>0.143333</td>\n",
       "    </tr>\n",
       "    <tr>\n",
       "      <th>40</th>\n",
       "      <td>MEG1132</td>\n",
       "      <td>-1.837774</td>\n",
       "      <td>0.140000</td>\n",
       "    </tr>\n",
       "    <tr>\n",
       "      <th>24</th>\n",
       "      <td>MEG0712</td>\n",
       "      <td>-1.718709</td>\n",
       "      <td>0.136667</td>\n",
       "    </tr>\n",
       "    <tr>\n",
       "      <th>38</th>\n",
       "      <td>MEG1112</td>\n",
       "      <td>-1.617308</td>\n",
       "      <td>0.120000</td>\n",
       "    </tr>\n",
       "    <tr>\n",
       "      <th>25</th>\n",
       "      <td>MEG0722</td>\n",
       "      <td>-1.586362</td>\n",
       "      <td>0.053333</td>\n",
       "    </tr>\n",
       "    <tr>\n",
       "      <th>13</th>\n",
       "      <td>MEG0422</td>\n",
       "      <td>-1.530379</td>\n",
       "      <td>0.143333</td>\n",
       "    </tr>\n",
       "    <tr>\n",
       "      <th>22</th>\n",
       "      <td>MEG0632</td>\n",
       "      <td>-1.387028</td>\n",
       "      <td>0.080000</td>\n",
       "    </tr>\n",
       "    <tr>\n",
       "      <th>37</th>\n",
       "      <td>MEG1042</td>\n",
       "      <td>-1.303321</td>\n",
       "      <td>0.146667</td>\n",
       "    </tr>\n",
       "  </tbody>\n",
       "</table>\n",
       "</div>"
      ],
      "text/plain": [
       "   Name sensors with min beta  Min beta  Min beta time\n",
       "14                    MEG0432 -2.512302       0.126667\n",
       "41                    MEG1142 -1.995613       0.120000\n",
       "15                    MEG0442 -1.960193       0.143333\n",
       "40                    MEG1132 -1.837774       0.140000\n",
       "24                    MEG0712 -1.718709       0.136667\n",
       "38                    MEG1112 -1.617308       0.120000\n",
       "25                    MEG0722 -1.586362       0.053333\n",
       "13                    MEG0422 -1.530379       0.143333\n",
       "22                    MEG0632 -1.387028       0.080000\n",
       "37                    MEG1042 -1.303321       0.146667"
      ]
     },
     "execution_count": 65,
     "metadata": {},
     "output_type": "execute_result"
    }
   ],
   "source": [
    "sorted_min.head(10)"
   ]
  },
  {
   "cell_type": "code",
   "execution_count": 66,
   "metadata": {},
   "outputs": [
    {
     "data": {
      "text/html": [
       "<div>\n",
       "<style scoped>\n",
       "    .dataframe tbody tr th:only-of-type {\n",
       "        vertical-align: middle;\n",
       "    }\n",
       "\n",
       "    .dataframe tbody tr th {\n",
       "        vertical-align: top;\n",
       "    }\n",
       "\n",
       "    .dataframe thead th {\n",
       "        text-align: right;\n",
       "    }\n",
       "</style>\n",
       "<table border=\"1\" class=\"dataframe\">\n",
       "  <thead>\n",
       "    <tr style=\"text-align: right;\">\n",
       "      <th></th>\n",
       "      <th>Name sensors with max beta</th>\n",
       "      <th>Max beta</th>\n",
       "      <th>Max beta time</th>\n",
       "    </tr>\n",
       "  </thead>\n",
       "  <tbody>\n",
       "    <tr>\n",
       "      <th>13</th>\n",
       "      <td>MEG0422</td>\n",
       "      <td>0.589261</td>\n",
       "      <td>0.816667</td>\n",
       "    </tr>\n",
       "    <tr>\n",
       "      <th>15</th>\n",
       "      <td>MEG0442</td>\n",
       "      <td>0.506493</td>\n",
       "      <td>0.860000</td>\n",
       "    </tr>\n",
       "    <tr>\n",
       "      <th>66</th>\n",
       "      <td>MEG1812</td>\n",
       "      <td>0.431562</td>\n",
       "      <td>0.723333</td>\n",
       "    </tr>\n",
       "    <tr>\n",
       "      <th>69</th>\n",
       "      <td>MEG1842</td>\n",
       "      <td>0.431203</td>\n",
       "      <td>0.856667</td>\n",
       "    </tr>\n",
       "    <tr>\n",
       "      <th>60</th>\n",
       "      <td>MEG1632</td>\n",
       "      <td>0.413559</td>\n",
       "      <td>0.866667</td>\n",
       "    </tr>\n",
       "    <tr>\n",
       "      <th>12</th>\n",
       "      <td>MEG0412</td>\n",
       "      <td>0.401335</td>\n",
       "      <td>0.790000</td>\n",
       "    </tr>\n",
       "    <tr>\n",
       "      <th>67</th>\n",
       "      <td>MEG1822</td>\n",
       "      <td>0.401106</td>\n",
       "      <td>0.863333</td>\n",
       "    </tr>\n",
       "    <tr>\n",
       "      <th>68</th>\n",
       "      <td>MEG1832</td>\n",
       "      <td>0.395126</td>\n",
       "      <td>0.710000</td>\n",
       "    </tr>\n",
       "    <tr>\n",
       "      <th>14</th>\n",
       "      <td>MEG0432</td>\n",
       "      <td>0.394394</td>\n",
       "      <td>0.856667</td>\n",
       "    </tr>\n",
       "    <tr>\n",
       "      <th>22</th>\n",
       "      <td>MEG0632</td>\n",
       "      <td>0.369075</td>\n",
       "      <td>0.806667</td>\n",
       "    </tr>\n",
       "  </tbody>\n",
       "</table>\n",
       "</div>"
      ],
      "text/plain": [
       "   Name sensors with max beta  Max beta  Max beta time\n",
       "13                    MEG0422  0.589261       0.816667\n",
       "15                    MEG0442  0.506493       0.860000\n",
       "66                    MEG1812  0.431562       0.723333\n",
       "69                    MEG1842  0.431203       0.856667\n",
       "60                    MEG1632  0.413559       0.866667\n",
       "12                    MEG0412  0.401335       0.790000\n",
       "67                    MEG1822  0.401106       0.863333\n",
       "68                    MEG1832  0.395126       0.710000\n",
       "14                    MEG0432  0.394394       0.856667\n",
       "22                    MEG0632  0.369075       0.806667"
      ]
     },
     "execution_count": 66,
     "metadata": {},
     "output_type": "execute_result"
    }
   ],
   "source": [
    "sorted_max.head(10)"
   ]
  },
  {
   "cell_type": "markdown",
   "metadata": {},
   "source": [
    "### Knowing the name or number of the sensor, you can find information about it"
   ]
  },
  {
   "cell_type": "code",
   "execution_count": 40,
   "metadata": {},
   "outputs": [
    {
     "data": {
      "text/html": [
       "<div>\n",
       "<style scoped>\n",
       "    .dataframe tbody tr th:only-of-type {\n",
       "        vertical-align: middle;\n",
       "    }\n",
       "\n",
       "    .dataframe tbody tr th {\n",
       "        vertical-align: top;\n",
       "    }\n",
       "\n",
       "    .dataframe thead th {\n",
       "        text-align: right;\n",
       "    }\n",
       "</style>\n",
       "<table border=\"1\" class=\"dataframe\">\n",
       "  <thead>\n",
       "    <tr style=\"text-align: right;\">\n",
       "      <th></th>\n",
       "      <th>Name sensors with max beta</th>\n",
       "      <th>Max beta</th>\n",
       "      <th>Max beta time</th>\n",
       "    </tr>\n",
       "  </thead>\n",
       "  <tbody>\n",
       "    <tr>\n",
       "      <th>38</th>\n",
       "      <td>MEG1112</td>\n",
       "      <td>0.173736</td>\n",
       "      <td>1.4</td>\n",
       "    </tr>\n",
       "  </tbody>\n",
       "</table>\n",
       "</div>"
      ],
      "text/plain": [
       "   Name sensors with max beta  Max beta  Max beta time\n",
       "38                    MEG1112  0.173736            1.4"
      ]
     },
     "execution_count": 40,
     "metadata": {},
     "output_type": "execute_result"
    }
   ],
   "source": [
    "sorted_max.loc[sorted_max['Name sensors with max beta'] == 'MEG1112']"
   ]
  },
  {
   "cell_type": "markdown",
   "metadata": {},
   "source": [
    "# Good luck with your data ;)"
   ]
  }
 ],
 "metadata": {
  "kernelspec": {
   "display_name": "Python 3",
   "language": "python",
   "name": "python3"
  },
  "language_info": {
   "codemirror_mode": {
    "name": "ipython",
    "version": 3
   },
   "file_extension": ".py",
   "mimetype": "text/x-python",
   "name": "python",
   "nbconvert_exporter": "python",
   "pygments_lexer": "ipython3",
   "version": "3.8.3"
  }
 },
 "nbformat": 4,
 "nbformat_minor": 4
}
